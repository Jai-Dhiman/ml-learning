{
  "cells": [
    {
      "cell_type": "markdown",
      "metadata": {},
      "source": [
        "# Stage 3: Constitutional AI Training\n",
        "\n",
        "Critique-Revision data generation + DPO training.\n",
        "\n",
        "**Requires**: Stage 2 adapters (load from Drive or retrain)\n",
        "\n",
        "**Expected time**: ~4-5 hours on T4 GPU"
      ]
    },
    {
      "cell_type": "code",
      "execution_count": null,
      "metadata": {},
      "outputs": [],
      "source": [
        "# Cell 1: Setup\n",
        "from google.colab import drive\n",
        "import os\n",
        "\n",
        "drive.mount('/content/drive')\n",
        "os.chdir('/content')\n",
        "\n",
        "!git clone https://github.com/Jai-Dhiman/ml-learning.git\n",
        "os.chdir('/content/ml-learning/critique-revision-system')\n",
        "\n",
        "print(f\"✅ Ready in: {os.getcwd()}\")"
      ]
    },
    {
      "cell_type": "code",
      "execution_count": null,
      "metadata": {},
      "outputs": [],
      "source": [
        "# Cell 2: Install Dependencies\n",
        "!pip install -q transformers==4.36.2 datasets==2.16.1 peft==0.7.1 trl==0.7.10\n",
        "!pip install -q accelerate==0.25.0 bitsandbytes==0.41.3 torch==2.1.2 pyyaml\n",
        "\n",
        "print(\"✅ Dependencies installed\")"
      ]
    },
    {
      "cell_type": "code",
      "execution_count": null,
      "metadata": {},
      "outputs": [],
      "source": [
        "# Cell 3: Load Stage 2 Adapters from Drive\n",
        "!mkdir -p artifacts/stage2_helpful\n",
        "!cp -r /content/drive/MyDrive/ml-learning/artifacts/stage2_helpful/* artifacts/stage2_helpful/\n",
        "\n",
        "# Verify\n",
        "import os\n",
        "adapter_path = 'artifacts/stage2_helpful/lora_adapters'\n",
        "if os.path.exists(adapter_path):\n",
        "    print(f\"✅ Stage 2 adapters loaded from Drive\")\n",
        "else:\n",
        "    print(\"❌ Stage 2 adapters not found! Run Stage 2 notebook first.\")\n",
        "    raise FileNotFoundError(f\"Missing: {adapter_path}\")"
      ]
    },
    {
      "cell_type": "code",
      "execution_count": null,
      "metadata": {},
      "outputs": [],
      "source": [
        "# Cell 4: PREFLIGHT TEST (1 pair)\n",
        "import os\n",
        "os.environ['WANDB_DISABLED'] = 'true'\n",
        "\n",
        "print(\"=\"*70)\n",
        "print(\"PREFLIGHT: Testing with 1 sample\")\n",
        "print(\"=\"*70)\n",
        "\n",
        "# Test critique-revision\n",
        "print(\"\\n[1/2] Testing critique-revision generation...\")\n",
        "!python src/training/critique_revision.py \\\n",
        "  --num-examples 1 \\\n",
        "  --split 'test[:1]' \\\n",
        "  --output /tmp/preflight_pairs.jsonl \\\n",
        "  --adapter-path artifacts/stage2_helpful/lora_adapters \\\n",
        "  --seed 42\n",
        "\n",
        "# Test DPO\n",
        "print(\"\\n[2/2] Testing DPO training...\")\n",
        "!python src/training/train_dpo.py \\\n",
        "  --pairs-path /tmp/preflight_pairs.jsonl \\\n",
        "  --base-model-id google/gemma-2b-it \\\n",
        "  --stage2-adapter-path artifacts/stage2_helpful/lora_adapters \\\n",
        "  --output-dir /tmp/preflight_stage3 \\\n",
        "  --per-device-train-batch-size 1 \\\n",
        "  --gradient-accumulation-steps 1 \\\n",
        "  --learning-rate 5e-5 \\\n",
        "  --num-train-epochs 0.01 \\\n",
        "  --beta 0.3 \\\n",
        "  --seed 42 \\\n",
        "  --save-steps 1000 \\\n",
        "  --logging-steps 1\n",
        "\n",
        "print(\"\\n\" + \"=\"*70)\n",
        "print(\"✅ PREFLIGHT PASSED - Ready for full training\")\n",
        "print(\"=\"*70)"
      ]
    },
    {
      "cell_type": "code",
      "execution_count": null,
      "metadata": {},
      "outputs": [],
      "source": [
        "# Cell 5: Generate Critique-Revision Pairs (2500 pairs)\n",
        "!mkdir -p artifacts/stage3_pairs\n",
        "\n",
        "print(\"=\"*70)\n",
        "print(\"STAGE 3 - PART 1: CRITIQUE-REVISION GENERATION\")\n",
        "print(\"=\"*70)\n",
        "\n",
        "!python src/training/critique_revision.py \\\n",
        "  --num-examples 2500 \\\n",
        "  --split 'test[:1000]+train[:1500]' \\\n",
        "  --output artifacts/stage3_pairs/pairs.jsonl \\\n",
        "  --adapter-path artifacts/stage2_helpful/lora_adapters \\\n",
        "  --seed 42\n",
        "\n",
        "print(\"\\n✅ Pairs generated\")"
      ]
    },
    {
      "cell_type": "code",
      "execution_count": null,
      "metadata": {},
      "outputs": [],
      "source": [
        "# Cell 6: Validate Pairs Quality\n",
        "import json\n",
        "from collections import Counter\n",
        "\n",
        "with open('artifacts/stage3_pairs/pairs.jsonl') as f:\n",
        "    pairs = [json.loads(line) for line in f]\n",
        "\n",
        "print(f\"Total pairs: {len(pairs)}\")\n",
        "\n",
        "# Check malformed\n",
        "malformed = 0\n",
        "for p in pairs:\n",
        "    revised = p.get('revised_response', '')\n",
        "    if len(revised) < 30 or any(ind in revised.lower()[:100] for ind in ['accurate, but', 'could be improved']):\n",
        "        malformed += 1\n",
        "\n",
        "malformed_rate = malformed / len(pairs) * 100\n",
        "print(f\"\\nQuality: {len(pairs)-malformed} valid ({100-malformed_rate:.1f}%)\")\n",
        "print(f\"Malformed: {malformed} ({malformed_rate:.1f}%)\")\n",
        "\n",
        "if malformed_rate < 5:\n",
        "    print(\"✅ Quality GOOD\")\n",
        "else:\n",
        "    print(\"⚠️  Quality needs improvement\")\n",
        "\n",
        "# Top principles\n",
        "principle_counts = Counter()\n",
        "for p in pairs:\n",
        "    for pid in p.get('principle_ids', []):\n",
        "        principle_counts[pid] += 1\n",
        "\n",
        "print(f\"\\nTop Principles:\")\n",
        "for pid, count in principle_counts.most_common(5):\n",
        "    print(f\"  {pid}: {count}\")"
      ]
    },
    {
      "cell_type": "code",
      "execution_count": null,
      "metadata": {},
      "outputs": [],
      "source": [
        "# Cell 7: DPO Training\n",
        "!mkdir -p artifacts/stage3_constitutional\n",
        "\n",
        "print(\"=\"*70)\n",
        "print(\"STAGE 3 - PART 2: DPO TRAINING\")\n",
        "print(\"=\"*70)\n",
        "\n",
        "!python src/training/train_dpo.py \\\n",
        "  --pairs-path artifacts/stage3_pairs/pairs.jsonl \\\n",
        "  --base-model-id google/gemma-2b-it \\\n",
        "  --stage2-adapter-path artifacts/stage2_helpful/lora_adapters \\\n",
        "  --output-dir artifacts/stage3_constitutional \\\n",
        "  --per-device-train-batch-size 1 \\\n",
        "  --gradient-accumulation-steps 8 \\\n",
        "  --learning-rate 5e-5 \\\n",
        "  --num-train-epochs 2.0 \\\n",
        "  --beta 0.3 \\\n",
        "  --seed 42 \\\n",
        "  --save-steps 200 \\\n",
        "  --logging-steps 10\n",
        "\n",
        "print(\"\\n✅ Stage 3 training complete!\")"
      ]
    },
    {
      "cell_type": "code",
      "execution_count": null,
      "metadata": {},
      "outputs": [],
      "source": [
        "# Cell 8: Save to Drive\n",
        "!mkdir -p /content/drive/MyDrive/ml-learning/artifacts/stage3_constitutional\n",
        "!cp -r artifacts/stage3_constitutional/* /content/drive/MyDrive/ml-learning/artifacts/stage3_constitutional/\n",
        "\n",
        "print(\"✅ Saved to Google Drive\")\n",
        "print(\"Location: MyDrive/ml-learning/artifacts/stage3_constitutional/\")\n",
        "print(\"\\n\" + \"=\"*70)\n",
        "print(\"✅ STAGE 3 COMPLETE\")\n",
        "print(\"=\"*70)"
      ]
    }
  ],
  "metadata": {
    "accelerator": "GPU",
    "colab": {
      "gpuType": "T4",
      "provenance": []
    },
    "kernelspec": {
      "display_name": "Python 3",
      "name": "python3"
    }
  },
  "nbformat": 4,
  "nbformat_minor": 0
}
